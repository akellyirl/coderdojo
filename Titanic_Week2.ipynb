{
 "cells": [
  {
   "cell_type": "markdown",
   "metadata": {},
   "source": [
    "# Titanic\n",
    "# Week 2\n",
    "### Week 1 was about exploring the data\n",
    "### Week 2 is about building a simple Machine Learning model to predict survivors"
   ]
  },
  {
   "cell_type": "markdown",
   "metadata": {},
   "source": [
    "Import Python libraries"
   ]
  },
  {
   "cell_type": "code",
   "execution_count": 1,
   "metadata": {
    "ExecuteTime": {
     "end_time": "2021-12-06T15:17:15.307444Z",
     "start_time": "2021-12-06T15:17:13.770478Z"
    }
   },
   "outputs": [],
   "source": [
    "import pandas as pd\n",
    "import matplotlib.pyplot as plt\n",
    "import seaborn as sns\n",
    "import numpy as np\n",
    "\n",
    "from sklearn import metrics\n",
    "from sklearn.model_selection import train_test_split"
   ]
  },
  {
   "cell_type": "markdown",
   "metadata": {},
   "source": [
    "# Import the Data"
   ]
  },
  {
   "cell_type": "code",
   "execution_count": 2,
   "metadata": {
    "ExecuteTime": {
     "end_time": "2021-12-06T15:17:15.323402Z",
     "start_time": "2021-12-06T15:17:15.308439Z"
    }
   },
   "outputs": [],
   "source": [
    "train_df = pd.read_csv('train.csv')  # Dataset to Train and Validate on"
   ]
  },
  {
   "cell_type": "markdown",
   "metadata": {},
   "source": [
    "# Some Data Exploration"
   ]
  },
  {
   "cell_type": "code",
   "execution_count": 3,
   "metadata": {
    "ExecuteTime": {
     "end_time": "2021-12-06T15:17:15.339354Z",
     "start_time": "2021-12-06T15:17:15.324409Z"
    }
   },
   "outputs": [
    {
     "name": "stdout",
     "output_type": "stream",
     "text": [
      "<class 'pandas.core.frame.DataFrame'>\n",
      "RangeIndex: 891 entries, 0 to 890\n",
      "Data columns (total 12 columns):\n",
      " #   Column       Non-Null Count  Dtype  \n",
      "---  ------       --------------  -----  \n",
      " 0   PassengerId  891 non-null    int64  \n",
      " 1   Survived     891 non-null    int64  \n",
      " 2   Pclass       891 non-null    int64  \n",
      " 3   Name         891 non-null    object \n",
      " 4   Sex          891 non-null    object \n",
      " 5   Age          714 non-null    float64\n",
      " 6   SibSp        891 non-null    int64  \n",
      " 7   Parch        891 non-null    int64  \n",
      " 8   Ticket       891 non-null    object \n",
      " 9   Fare         891 non-null    float64\n",
      " 10  Cabin        204 non-null    object \n",
      " 11  Embarked     889 non-null    object \n",
      "dtypes: float64(2), int64(5), object(5)\n",
      "memory usage: 83.7+ KB\n"
     ]
    }
   ],
   "source": [
    "train_df.info()"
   ]
  },
  {
   "cell_type": "markdown",
   "metadata": {},
   "source": [
    "# Prepare Data for Analysis\n",
    "\n",
    "* We believe we only need 'Sex' to do a pretty good Model\n",
    "* Drop unnecessary fields"
   ]
  },
  {
   "cell_type": "code",
   "execution_count": 4,
   "metadata": {
    "ExecuteTime": {
     "end_time": "2021-12-06T15:17:15.371268Z",
     "start_time": "2021-12-06T15:17:15.340364Z"
    }
   },
   "outputs": [],
   "source": [
    "X = train_df\n",
    "\n",
    "X = X.drop(['Name','Ticket','Cabin','Embarked','Sex',\n",
    "           'SibSp','Age','Parch','Fare','PassengerId','Pclass'], axis=1)   # Drop Features we don't want\n",
    "\n",
    "X.loc[train_df['Sex']=='female', 'Sex'] = 1     # Enumerate 'Sex'\n",
    "X.loc[train_df['Sex']=='male', 'Sex'] = 0     # Enumerate 'Sex'\n",
    "\n",
    "X.dropna(axis=0, inplace=True)   # Drop any NaNs\n",
    "\n",
    "y = X['Survived']   # Prepare the training labels\n",
    "X.drop(['Survived'], axis=1, inplace=True)  # Remove Labels from the Training Set\n",
    "\n",
    "# Train / Test Split\n",
    "Xtrain, Xtest, ytrain, ytest = train_test_split(X, y, test_size=0.2, random_state=42)\n",
    "\n"
   ]
  },
  {
   "cell_type": "code",
   "execution_count": 5,
   "metadata": {
    "ExecuteTime": {
     "end_time": "2021-12-06T15:17:15.387226Z",
     "start_time": "2021-12-06T15:17:15.372266Z"
    }
   },
   "outputs": [
    {
     "name": "stdout",
     "output_type": "stream",
     "text": [
      "<class 'pandas.core.frame.DataFrame'>\n",
      "Int64Index: 712 entries, 331 to 102\n",
      "Data columns (total 1 columns):\n",
      " #   Column  Non-Null Count  Dtype  \n",
      "---  ------  --------------  -----  \n",
      " 0   Sex     712 non-null    float64\n",
      "dtypes: float64(1)\n",
      "memory usage: 11.1 KB\n"
     ]
    }
   ],
   "source": [
    "Xtrain.info()"
   ]
  },
  {
   "cell_type": "markdown",
   "metadata": {},
   "source": [
    "# Machine Learning Model\n",
    "\n",
    "### A machine learning model can be used to predict if a person would survive the Titanic disaster\n",
    "\n",
    "### We train the model on a portion of the data (Training set)\n",
    "\n",
    "### We test (or validate) the model on data that has not been used for training, to see how well it predicts survival on data that it has not seen before\n",
    "\n",
    "\n",
    "* Build a Model based on our Training Set\n",
    "* Validate on our Test / Validation set"
   ]
  },
  {
   "cell_type": "code",
   "execution_count": 6,
   "metadata": {
    "ExecuteTime": {
     "end_time": "2021-12-06T15:17:15.465016Z",
     "start_time": "2021-12-06T15:17:15.388191Z"
    }
   },
   "outputs": [],
   "source": [
    "from sklearn.tree import DecisionTreeClassifier\n",
    "\n",
    "# Instantiate a Classifier and fit with Xtrain and ytrain\n",
    "clf = DecisionTreeClassifier()\n",
    "clf = clf.fit(Xtrain, ytrain)\n",
    "\n",
    "# Validate with the Test / Validation set\n",
    "y_pred = clf.predict(Xtest)"
   ]
  },
  {
   "cell_type": "code",
   "execution_count": 7,
   "metadata": {
    "ExecuteTime": {
     "end_time": "2021-12-06T15:17:15.480942Z",
     "start_time": "2021-12-06T15:17:15.466019Z"
    }
   },
   "outputs": [
    {
     "name": "stdout",
     "output_type": "stream",
     "text": [
      "Validation Set Accuracy : 0.7821229050279329\n",
      "\n",
      "Validation Set Accuracy : 0.7821229050279329\n",
      "\n"
     ]
    }
   ],
   "source": [
    "# check the training accuracy (showing two different ways to calculate)\n",
    "print(f'Validation Set Accuracy : {clf.score(Xtest, ytest)}\\n')\n",
    "print(f'Validation Set Accuracy : {np.sum(ytest==y_pred)/ytest.shape[0]}\\n')"
   ]
  },
  {
   "cell_type": "markdown",
   "metadata": {},
   "source": [
    "# Results\n",
    "\n",
    "* We got 78% accuracy on our Validation Set based only on the Male/Female feature\n",
    "* Can you do better ?\n",
    "\n"
   ]
  },
  {
   "cell_type": "code",
   "execution_count": null,
   "metadata": {},
   "outputs": [],
   "source": []
  }
 ],
 "metadata": {
  "kernelspec": {
   "display_name": "Python 3",
   "language": "python",
   "name": "python3"
  },
  "language_info": {
   "codemirror_mode": {
    "name": "ipython",
    "version": 3
   },
   "file_extension": ".py",
   "mimetype": "text/x-python",
   "name": "python",
   "nbconvert_exporter": "python",
   "pygments_lexer": "ipython3",
   "version": "3.8.8"
  },
  "varInspector": {
   "cols": {
    "lenName": 16,
    "lenType": 16,
    "lenVar": 40
   },
   "kernels_config": {
    "python": {
     "delete_cmd_postfix": "",
     "delete_cmd_prefix": "del ",
     "library": "var_list.py",
     "varRefreshCmd": "print(var_dic_list())"
    },
    "r": {
     "delete_cmd_postfix": ") ",
     "delete_cmd_prefix": "rm(",
     "library": "var_list.r",
     "varRefreshCmd": "cat(var_dic_list()) "
    }
   },
   "types_to_exclude": [
    "module",
    "function",
    "builtin_function_or_method",
    "instance",
    "_Feature"
   ],
   "window_display": false
  }
 },
 "nbformat": 4,
 "nbformat_minor": 2
}
